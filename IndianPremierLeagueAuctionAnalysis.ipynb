{
 "cells": [
  {
   "cell_type": "markdown",
   "id": "84e7acd1",
   "metadata": {},
   "source": [
    "# IndianPremierLeague Auction Analysis"
   ]
  },
  {
   "cell_type": "code",
   "execution_count": 96,
   "id": "c6cd3eec",
   "metadata": {},
   "outputs": [
    {
     "name": "stdout",
     "output_type": "stream",
     "text": [
      "Requirement already satisfied: pyspark in /opt/homebrew/lib/python3.11/site-packages (3.5.0)\n",
      "Requirement already satisfied: py4j==0.10.9.7 in /opt/homebrew/lib/python3.11/site-packages (from pyspark) (0.10.9.7)\n",
      "\n",
      "\u001b[1m[\u001b[0m\u001b[34;49mnotice\u001b[0m\u001b[1;39;49m]\u001b[0m\u001b[39;49m A new release of pip is available: \u001b[0m\u001b[31;49m23.1.2\u001b[0m\u001b[39;49m -> \u001b[0m\u001b[32;49m23.3.1\u001b[0m\n",
      "\u001b[1m[\u001b[0m\u001b[34;49mnotice\u001b[0m\u001b[1;39;49m]\u001b[0m\u001b[39;49m To update, run: \u001b[0m\u001b[32;49mpython3.11 -m pip install --upgrade pip\u001b[0m\n"
     ]
    }
   ],
   "source": [
    "#Install pyspark\n",
    "!pip install pyspark"
   ]
  },
  {
   "cell_type": "code",
   "execution_count": 97,
   "id": "32b8af4e",
   "metadata": {},
   "outputs": [],
   "source": [
    "#import libraries\n",
    "\n",
    "import pandas as pd\n",
    "from pyspark.sql import SparkSession\n",
    "from pyspark.sql import *\n",
    "from pyspark.sql.types import *"
   ]
  },
  {
   "cell_type": "code",
   "execution_count": 98,
   "id": "aa4f87ef",
   "metadata": {},
   "outputs": [],
   "source": [
    "#Start Spark Session\n",
    "\n",
    "spark = SparkSession.builder.getOrCreate()"
   ]
  },
  {
   "cell_type": "code",
   "execution_count": 99,
   "id": "e85eb770",
   "metadata": {},
   "outputs": [],
   "source": [
    "schema = StructType() \\\n",
    "        .add(\"\",IntegerType(),True) \\\n",
    "        .add(\"Player\", StringType(),True) \\\n",
    "        .add(\"Base Price\",StringType(), True) \\\n",
    "        .add(\"TYPE\",StringType(),True) \\\n",
    "        .add(\"COST IN ₹ (CR.)\",FloatType(),True) \\\n",
    "        .add(\"Cost IN $ (000)\",FloatType(),True) \\\n",
    "        .add(\"2021 Squad\", StringType(),True) \\\n",
    "        .add(\"Team\", StringType(),True)"
   ]
  },
  {
   "cell_type": "markdown",
   "id": "eae1f11f",
   "metadata": {},
   "source": [
    "## Data Extraction"
   ]
  },
  {
   "cell_type": "code",
   "execution_count": 100,
   "id": "acb6e4e5",
   "metadata": {},
   "outputs": [],
   "source": [
    "df = spark.read.csv(\"cpl_2022_dataset.csv\", header=True, schema=schema)"
   ]
  },
  {
   "cell_type": "markdown",
   "id": "63bd6514",
   "metadata": {},
   "source": [
    "## Data Exploration"
   ]
  },
  {
   "cell_type": "code",
   "execution_count": 101,
   "id": "a7489170",
   "metadata": {},
   "outputs": [
    {
     "name": "stdout",
     "output_type": "stream",
     "text": [
      "root\n",
      " |-- : integer (nullable = true)\n",
      " |-- Player: string (nullable = true)\n",
      " |-- Base Price: string (nullable = true)\n",
      " |-- TYPE: string (nullable = true)\n",
      " |-- COST IN ₹ (CR.): float (nullable = true)\n",
      " |-- Cost IN $ (000): float (nullable = true)\n",
      " |-- 2021 Squad: string (nullable = true)\n",
      " |-- Team: string (nullable = true)\n",
      "\n"
     ]
    }
   ],
   "source": [
    "df.printSchema()"
   ]
  },
  {
   "cell_type": "code",
   "execution_count": 102,
   "id": "14df3614",
   "metadata": {},
   "outputs": [
    {
     "name": "stdout",
     "output_type": "stream",
     "text": [
      "Rows:  633\n",
      "Columns: 8\n"
     ]
    }
   ],
   "source": [
    "#Total number of rows and columns\n",
    "\n",
    "print('Rows: ', df.count())\n",
    "print('Columns:', len(df.columns))"
   ]
  },
  {
   "cell_type": "code",
   "execution_count": 103,
   "id": "5d18fc98",
   "metadata": {},
   "outputs": [
    {
     "data": {
      "text/plain": [
       "[Row(Base Price='20 Lakh'),\n",
       " Row(Base Price='2 Cr'),\n",
       " Row(Base Price='Draft Pick'),\n",
       " Row(Base Price='40 Lakh'),\n",
       " Row(Base Price='30 Lakh'),\n",
       " Row(Base Price='1 Cr'),\n",
       " Row(Base Price='50 Lakh'),\n",
       " Row(Base Price='1.5 Cr'),\n",
       " Row(Base Price='75 Lakh'),\n",
       " Row(Base Price='Retained')]"
      ]
     },
     "execution_count": 103,
     "metadata": {},
     "output_type": "execute_result"
    }
   ],
   "source": [
    "#Unique Values in 'Base Price' Column\n",
    "\n",
    "df.select('Base Price').distinct().collect()"
   ]
  },
  {
   "cell_type": "code",
   "execution_count": 104,
   "id": "12fc8a0c",
   "metadata": {},
   "outputs": [
    {
     "name": "stdout",
     "output_type": "stream",
     "text": [
      "+----------+-----+\n",
      "|Base Price|count|\n",
      "+----------+-----+\n",
      "|   20 Lakh|  344|\n",
      "|      2 Cr|   48|\n",
      "|Draft Pick|    6|\n",
      "|   40 Lakh|   16|\n",
      "|   30 Lakh|    9|\n",
      "|      1 Cr|   33|\n",
      "|   50 Lakh|  104|\n",
      "|    1.5 Cr|   20|\n",
      "|   75 Lakh|   26|\n",
      "|  Retained|   27|\n",
      "+----------+-----+\n",
      "\n"
     ]
    }
   ],
   "source": [
    "#Distribution of values inside column 'Base Price'\n",
    "\n",
    "df.groupBy('Base Price').count().show()"
   ]
  },
  {
   "cell_type": "code",
   "execution_count": 105,
   "id": "0bf8d548",
   "metadata": {},
   "outputs": [
    {
     "name": "stdout",
     "output_type": "stream",
     "text": [
      "+---+---------------+----------+-----------+---------------+---------------+----------+--------------+\n",
      "|   |         Player|Base Price|       TYPE|COST IN ₹ (CR.)|Cost IN $ (000)|2021 Squad|          Team|\n",
      "+---+---------------+----------+-----------+---------------+---------------+----------+--------------+\n",
      "|  0|    Rashid Khan|Draft Pick|     BOWLER|           15.0|         1950.0|       SRH|Gujarat Titans|\n",
      "|  1|  Hardik Pandya|Draft Pick|ALL-ROUNDER|           15.0|         1950.0|        MI|Gujarat Titans|\n",
      "|  2|Lockie Ferguson|      2 Cr|     BOWLER|           10.0|         1300.0|       KKR|Gujarat Titans|\n",
      "|  3|  Rahul Tewatia|   40 Lakh|ALL-ROUNDER|            9.0|         1170.0|        RR|Gujarat Titans|\n",
      "|  4|   Shubman Gill|Draft Pick|     BATTER|            8.0|         1040.0|       KKR|Gujarat Titans|\n",
      "+---+---------------+----------+-----------+---------------+---------------+----------+--------------+\n",
      "only showing top 5 rows\n",
      "\n"
     ]
    }
   ],
   "source": [
    "df.show(5)"
   ]
  },
  {
   "cell_type": "markdown",
   "id": "845c892b",
   "metadata": {},
   "source": [
    "# Data Transformation\n",
    "## Data cleaning (Handling Missing Values, Renaming Columns)"
   ]
  },
  {
   "cell_type": "code",
   "execution_count": 106,
   "id": "8f20de61",
   "metadata": {},
   "outputs": [],
   "source": [
    "#Rename Column\n",
    "\n",
    "df2 = df.withColumnRenamed(\"\",\"SlNo\")\\\n",
    "      .withColumnRenamed(\"Player\",\"player\")\\\n",
    "      .withColumnRenamed(\"Base Price\",\"base_price\")\\\n",
    "      .withColumnRenamed(\"Type\",\"type\") \\\n",
    "      .withColumnRenamed(\"COST IN ₹ (CR.)\",\"cost_inr\") \\\n",
    "      .withColumnRenamed(\"Cost IN $ (000)\",\"cost_usd\") \\\n",
    "      .withColumnRenamed(\"2021 Squad\",\"twentyOne_team\") \\\n",
    "      .withColumnRenamed(\"Team\",\"twentyTwo_team\")"
   ]
  },
  {
   "cell_type": "code",
   "execution_count": 107,
   "id": "fd4d812b",
   "metadata": {},
   "outputs": [
    {
     "name": "stdout",
     "output_type": "stream",
     "text": [
      "+----+---------------+----------+-----------+--------+--------+--------------+--------------+\n",
      "|SlNo|         player|base_price|       type|cost_inr|cost_usd|twentyOne_team|twentyTwo_team|\n",
      "+----+---------------+----------+-----------+--------+--------+--------------+--------------+\n",
      "|   0|    Rashid Khan|Draft Pick|     BOWLER|    15.0|  1950.0|           SRH|Gujarat Titans|\n",
      "|   1|  Hardik Pandya|Draft Pick|ALL-ROUNDER|    15.0|  1950.0|            MI|Gujarat Titans|\n",
      "|   2|Lockie Ferguson|      2 Cr|     BOWLER|    10.0|  1300.0|           KKR|Gujarat Titans|\n",
      "+----+---------------+----------+-----------+--------+--------+--------------+--------------+\n",
      "only showing top 3 rows\n",
      "\n"
     ]
    }
   ],
   "source": [
    "df2.show(3)"
   ]
  },
  {
   "cell_type": "markdown",
   "id": "a5e3413e",
   "metadata": {},
   "source": [
    "## Checking For Null/missing Values"
   ]
  },
  {
   "cell_type": "code",
   "execution_count": 108,
   "id": "dd7d528d",
   "metadata": {},
   "outputs": [
    {
     "name": "stdout",
     "output_type": "stream",
     "text": [
      "+----+---------------+----------+-----------+--------+--------+--------------+--------------+\n",
      "|SlNo|         player|base_price|       type|cost_inr|cost_usd|twentyOne_team|twentyTwo_team|\n",
      "+----+---------------+----------+-----------+--------+--------+--------------+--------------+\n",
      "| 237|   Suresh Raina|      2 Cr|     BATTER|    NULL|    NULL|           CSK|        Unsold|\n",
      "| 238|    Steve Smith|      2 Cr|     BATTER|    NULL|    NULL|            DC|        Unsold|\n",
      "| 239|Shakib Al Hasan|      2 Cr|ALL-ROUNDER|    NULL|    NULL|           KKR|        Unsold|\n",
      "| 240|    Amit Mishra|    1.5 Cr|     BOWLER|    NULL|    NULL|            DC|        Unsold|\n",
      "| 241|    Adil Rashid|      2 Cr|     BOWLER|    NULL|    NULL|          PBKS|        Unsold|\n",
      "+----+---------------+----------+-----------+--------+--------+--------------+--------------+\n",
      "only showing top 5 rows\n",
      "\n",
      "+----+-------------------+----------+------------+--------+--------+--------------+--------------+\n",
      "|SlNo|             player|base_price|        type|cost_inr|cost_usd|twentyOne_team|twentyTwo_team|\n",
      "+----+-------------------+----------+------------+--------+--------+--------------+--------------+\n",
      "|   6|         Yash Dayal|   20 Lakh|      BOWLER|     3.2|   416.0|          NULL|Gujarat Titans|\n",
      "|   9|Abhinav Sadarangani|   20 Lakh|      BATTER|     2.6|   338.0|          NULL|Gujarat Titans|\n",
      "|  10|       Matthew Wade|      2 Cr|WICKETKEEPER|     2.4|   312.0|          NULL|Gujarat Titans|\n",
      "|  11|     Alzarri Joseph|   75 Lakh|      BOWLER|     2.4|   312.0|          NULL|Gujarat Titans|\n",
      "|  17|        Varun Aaron|   50 Lakh|      BOWLER|     0.5|    65.0|          NULL|Gujarat Titans|\n",
      "+----+-------------------+----------+------------+--------+--------+--------------+--------------+\n",
      "only showing top 5 rows\n",
      "\n",
      "+----+------+----------+----+--------+--------+--------------+--------------+\n",
      "|SlNo|player|base_price|type|cost_inr|cost_usd|twentyOne_team|twentyTwo_team|\n",
      "+----+------+----------+----+--------+--------+--------------+--------------+\n",
      "+----+------+----------+----+--------+--------+--------------+--------------+\n",
      "\n",
      "+----+------+----------+----+--------+--------+--------------+--------------+\n",
      "|SlNo|player|base_price|type|cost_inr|cost_usd|twentyOne_team|twentyTwo_team|\n",
      "+----+------+----------+----+--------+--------+--------------+--------------+\n",
      "+----+------+----------+----+--------+--------+--------------+--------------+\n",
      "\n",
      "+----+------+----------+----+--------+--------+--------------+--------------+\n",
      "|SlNo|player|base_price|type|cost_inr|cost_usd|twentyOne_team|twentyTwo_team|\n",
      "+----+------+----------+----+--------+--------+--------------+--------------+\n",
      "+----+------+----------+----+--------+--------+--------------+--------------+\n",
      "\n",
      "+----+------+----------+----+--------+--------+--------------+--------------+\n",
      "|SlNo|player|base_price|type|cost_inr|cost_usd|twentyOne_team|twentyTwo_team|\n",
      "+----+------+----------+----+--------+--------+--------------+--------------+\n",
      "+----+------+----------+----+--------+--------+--------------+--------------+\n",
      "\n"
     ]
    }
   ],
   "source": [
    "# Checking For Nul Values\n",
    "\n",
    "#spark.sql(\"\"\"SELECT * FROM ipl WHERE cost_usd IS NULL\"\"\").show()\n",
    "df2.select(\"*\").where(df2.cost_usd.isNull()).show(5)\n",
    "df2.select(\"*\").where(df2.twentyOne_team.isNull()).show(5)\n",
    "df2.select(\"*\").where(df2.player.isNull()).show(5)\n",
    "df2.select(\"*\").where(df2.base_price.isNull()).show(5)\n",
    "df2.select(\"*\").where(df2.twentyTwo_team.isNull()).show(5)\n",
    "df2.select(\"*\").where(df2.type.isNull()).show(5)"
   ]
  },
  {
   "cell_type": "markdown",
   "id": "87fdd4a9",
   "metadata": {},
   "source": [
    "## Filling Null/missing Values with appropriate values"
   ]
  },
  {
   "cell_type": "code",
   "execution_count": 109,
   "id": "d79da7e7",
   "metadata": {},
   "outputs": [],
   "source": [
    "df2 = df2.fillna(value=0.0,subset=[\"cost_inr\"]).orderBy('cost_inr')"
   ]
  },
  {
   "cell_type": "code",
   "execution_count": 110,
   "id": "3bccfa69",
   "metadata": {},
   "outputs": [],
   "source": [
    "df2 = df2.fillna(value=0.0,subset=[\"cost_usd\"]).orderBy('cost_usd')"
   ]
  },
  {
   "cell_type": "code",
   "execution_count": 111,
   "id": "34760521",
   "metadata": {},
   "outputs": [],
   "source": [
    "df2 = df2.fillna(value=\"NotPartOfAnyTeam\",subset=[\"twentyOne_team\"]).orderBy('cost_usd')"
   ]
  },
  {
   "cell_type": "code",
   "execution_count": 112,
   "id": "f2ea3f3a",
   "metadata": {},
   "outputs": [
    {
     "name": "stdout",
     "output_type": "stream",
     "text": [
      "+----+---------------+----------+-----------+--------+--------+--------------+--------------+\n",
      "|SlNo|         player|base_price|       type|cost_inr|cost_usd|twentyOne_team|twentyTwo_team|\n",
      "+----+---------------+----------+-----------+--------+--------+--------------+--------------+\n",
      "| 237|   Suresh Raina|      2 Cr|     BATTER|     0.0|     0.0|           CSK|        Unsold|\n",
      "| 242|    Imran Tahir|      2 Cr|     BOWLER|     0.0|     0.0|           CSK|        Unsold|\n",
      "| 238|    Steve Smith|      2 Cr|     BATTER|     0.0|     0.0|            DC|        Unsold|\n",
      "| 239|Shakib Al Hasan|      2 Cr|ALL-ROUNDER|     0.0|     0.0|           KKR|        Unsold|\n",
      "| 240|    Amit Mishra|    1.5 Cr|     BOWLER|     0.0|     0.0|            DC|        Unsold|\n",
      "+----+---------------+----------+-----------+--------+--------+--------------+--------------+\n",
      "only showing top 5 rows\n",
      "\n"
     ]
    }
   ],
   "source": [
    "df2.show(5)"
   ]
  },
  {
   "cell_type": "code",
   "execution_count": 113,
   "id": "366b82b3",
   "metadata": {},
   "outputs": [],
   "source": [
    "#Dropping inr Column\n",
    "\n",
    "df3 = df2.drop('cost_inr')\n"
   ]
  },
  {
   "cell_type": "code",
   "execution_count": 114,
   "id": "d562fc49",
   "metadata": {},
   "outputs": [
    {
     "name": "stdout",
     "output_type": "stream",
     "text": [
      "+----+--------------------+----------+------------+--------+----------------+--------------+\n",
      "|SlNo|              player|base_price|        type|cost_usd|  twentyOne_team|twentyTwo_team|\n",
      "+----+--------------------+----------+------------+--------+----------------+--------------+\n",
      "| 237|        Suresh Raina|      2 Cr|      BATTER|     0.0|             CSK|        Unsold|\n",
      "| 257|       Ishant Sharma|    1.5 Cr|      BOWLER|     0.0|              DC|        Unsold|\n",
      "| 238|         Steve Smith|      2 Cr|      BATTER|     0.0|              DC|        Unsold|\n",
      "| 239|     Shakib Al Hasan|      2 Cr| ALL-ROUNDER|     0.0|             KKR|        Unsold|\n",
      "| 240|         Amit Mishra|    1.5 Cr|      BOWLER|     0.0|              DC|        Unsold|\n",
      "| 241|         Adil Rashid|      2 Cr|      BOWLER|     0.0|            PBKS|        Unsold|\n",
      "| 242|         Imran Tahir|      2 Cr|      BOWLER|     0.0|             CSK|        Unsold|\n",
      "| 243|       Mujeeb Zadran|      2 Cr|      BOWLER|     0.0|             SRH|        Unsold|\n",
      "| 244|          Adam Zampa|      2 Cr|      BOWLER|     0.0|             RCB|        Unsold|\n",
      "| 245|       Rajat Patidar|   20 Lakh|      BATTER|     0.0|             RCB|        Unsold|\n",
      "| 246|Mohammed Azharuddeen|   20 Lakh|WICKETKEEPER|     0.0|             RCB|        Unsold|\n",
      "| 247|      Vishnu Solanki|   20 Lakh|WICKETKEEPER|     0.0|NotPartOfAnyTeam|        Unsold|\n",
      "| 248|  Sandeep Lamichhane|   40 Lakh|      BOWLER|     0.0|NotPartOfAnyTeam|        Unsold|\n",
      "| 249|        M. Siddharth|   20 Lakh|      BOWLER|     0.0|              DC|        Unsold|\n",
      "| 250|         Aaron Finch|    1.5 Cr|      BATTER|     0.0|NotPartOfAnyTeam|        Unsold|\n",
      "| 251|  Marnus Labuschagne|      1 Cr|      BATTER|     0.0|NotPartOfAnyTeam|        Unsold|\n",
      "| 252|         Dawid Malan|    1.5 Cr|      BATTER|     0.0|            PBKS|        Unsold|\n",
      "| 253|         Eoin Morgan|    1.5 Cr|      BATTER|     0.0|             KKR|        Unsold|\n",
      "| 254|   Cheteshwar Pujara|   50 Lakh|      BATTER|     0.0|             CSK|        Unsold|\n",
      "| 255|      Saurabh Tiwary|   50 Lakh|      BATTER|     0.0|              MI|        Unsold|\n",
      "+----+--------------------+----------+------------+--------+----------------+--------------+\n",
      "only showing top 20 rows\n",
      "\n"
     ]
    }
   ],
   "source": [
    "#Check updated Dataframe\n",
    "\n",
    "df3.show()"
   ]
  },
  {
   "cell_type": "markdown",
   "id": "ec0dac4f",
   "metadata": {},
   "source": [
    "# Data Analysis"
   ]
  },
  {
   "cell_type": "markdown",
   "id": "fea56432",
   "metadata": {},
   "source": [
    "## Top 3 batsman who got paid the most"
   ]
  },
  {
   "cell_type": "code",
   "execution_count": 115,
   "id": "6490172e",
   "metadata": {},
   "outputs": [
    {
     "name": "stdout",
     "output_type": "stream",
     "text": [
      "+---------------+--------+\n",
      "|         player|cost_usd|\n",
      "+---------------+--------+\n",
      "|   Rohit Sharma|  2080.0|\n",
      "|    Virat Kohli|  1950.0|\n",
      "|Kane Williamson|  1820.0|\n",
      "+---------------+--------+\n",
      "only showing top 3 rows\n",
      "\n"
     ]
    }
   ],
   "source": [
    "df3.select('player','cost_usd').where(df3.type=='BATTER').orderBy('cost_usd', ascending=False).show(3)"
   ]
  },
  {
   "cell_type": "code",
   "execution_count": 116,
   "id": "ff33b406",
   "metadata": {},
   "outputs": [],
   "source": [
    "df3.createOrReplaceTempView('ipl')"
   ]
  },
  {
   "cell_type": "code",
   "execution_count": 117,
   "id": "f8b95532",
   "metadata": {},
   "outputs": [
    {
     "name": "stdout",
     "output_type": "stream",
     "text": [
      "+---------------+--------+\n",
      "|         player|cost_usd|\n",
      "+---------------+--------+\n",
      "|   Rohit Sharma|  2080.0|\n",
      "|    Virat Kohli|  1950.0|\n",
      "|Kane Williamson|  1820.0|\n",
      "+---------------+--------+\n",
      "\n"
     ]
    }
   ],
   "source": [
    "spark.sql(\"\"\"SELECT player, cost_usd FROM ipl WHERE type = 'BATTER' ORDER BY 2 DESC LIMIT 3\"\"\").show()"
   ]
  },
  {
   "cell_type": "markdown",
   "id": "8b2229e7",
   "metadata": {},
   "source": [
    "## Top 5 bowlers who get paid the most"
   ]
  },
  {
   "cell_type": "code",
   "execution_count": 118,
   "id": "f71f2c08",
   "metadata": {},
   "outputs": [
    {
     "name": "stdout",
     "output_type": "stream",
     "text": [
      "+---------------+--------+\n",
      "|         player|cost_usd|\n",
      "+---------------+--------+\n",
      "|    Rashid Khan|  1950.0|\n",
      "|  Deepak Chahar|  1820.0|\n",
      "| Jasprit Bumrah|  1560.0|\n",
      "| Shardul Thakur|  1397.5|\n",
      "|Lockie Ferguson|  1300.0|\n",
      "+---------------+--------+\n",
      "only showing top 5 rows\n",
      "\n"
     ]
    }
   ],
   "source": [
    "df3.select('player','cost_usd').filter(df3.type=='BOWLER').orderBy('cost_usd',ascending=False).show(5)"
   ]
  },
  {
   "cell_type": "code",
   "execution_count": 119,
   "id": "202c370b",
   "metadata": {},
   "outputs": [
    {
     "name": "stdout",
     "output_type": "stream",
     "text": [
      "+--------------+--------+\n",
      "|        player|cost_usd|\n",
      "+--------------+--------+\n",
      "|   Rashid Khan|  1950.0|\n",
      "| Deepak Chahar|  1820.0|\n",
      "|Jasprit Bumrah|  1560.0|\n",
      "|Shardul Thakur|  1397.5|\n",
      "|    Avesh Khan|  1300.0|\n",
      "+--------------+--------+\n",
      "\n"
     ]
    }
   ],
   "source": [
    "spark.sql(\"\"\"SELECT player, cost_usd FROM ipl WHERE type = 'BOWLER' ORDER By 2 DESC LIMIT 5 \"\"\").show()"
   ]
  },
  {
   "cell_type": "markdown",
   "id": "23506a43",
   "metadata": {},
   "source": [
    "## 5 lowest paid wicket-keeper\n"
   ]
  },
  {
   "cell_type": "code",
   "execution_count": 120,
   "id": "23abf282",
   "metadata": {},
   "outputs": [
    {
     "name": "stdout",
     "output_type": "stream",
     "text": [
      "+---------------+--------+\n",
      "|         player|cost_usd|\n",
      "+---------------+--------+\n",
      "|  Jitesh Sharma|    26.0|\n",
      "|    Aryan Juyal|    26.0|\n",
      "|  N. Jagadeesan|    26.0|\n",
      "|Luvnith Sisodia|    26.0|\n",
      "| Baba Indrajith|    26.0|\n",
      "+---------------+--------+\n",
      "only showing top 5 rows\n",
      "\n"
     ]
    }
   ],
   "source": [
    "df3.select('player', 'cost_usd').filter((df3.type=='WICKETKEEPER') & (df3.twentyTwo_team!='Unsold')).orderBy('cost_usd').show(5)"
   ]
  },
  {
   "cell_type": "code",
   "execution_count": 121,
   "id": "74531a76",
   "metadata": {},
   "outputs": [
    {
     "name": "stdout",
     "output_type": "stream",
     "text": [
      "+---------------+--------+\n",
      "|         player|cost_usd|\n",
      "+---------------+--------+\n",
      "|    Dhruv Jurel|    26.0|\n",
      "|  Jitesh Sharma|    26.0|\n",
      "|  N. Jagadeesan|    26.0|\n",
      "|    Aryan Juyal|    26.0|\n",
      "|Luvnith Sisodia|    26.0|\n",
      "+---------------+--------+\n",
      "\n"
     ]
    }
   ],
   "source": [
    "spark.sql(\"\"\"SELECT player, cost_usd FROM ipl WHERE type = 'WICKETKEEPER' AND twentyTwo_team != 'Unsold' ORDER By 2 LIMIT 5 \"\"\").show()"
   ]
  },
  {
   "cell_type": "markdown",
   "id": "f882b378",
   "metadata": {},
   "source": [
    "## Average pay for Batsman, Bowler, All-Rounder, Wicket-Keeper"
   ]
  },
  {
   "cell_type": "code",
   "execution_count": 122,
   "id": "f2d84022",
   "metadata": {},
   "outputs": [
    {
     "name": "stdout",
     "output_type": "stream",
     "text": [
      "+------------+-----------+\n",
      "|        type|average_pay|\n",
      "+------------+-----------+\n",
      "|WICKETKEEPER|     278.99|\n",
      "|      BOWLER|     142.91|\n",
      "| ALL-ROUNDER|     170.48|\n",
      "|      BATTER|     214.56|\n",
      "+------------+-----------+\n",
      "\n"
     ]
    }
   ],
   "source": [
    "from pyspark.sql import functions as F\n",
    "df3.groupBy('type').agg(F.round(F.mean('cost_usd'),2).alias('average_pay')).show()"
   ]
  },
  {
   "cell_type": "code",
   "execution_count": 123,
   "id": "ee178c42",
   "metadata": {},
   "outputs": [
    {
     "name": "stdout",
     "output_type": "stream",
     "text": [
      "+------------+-----------+\n",
      "|        type|average_pay|\n",
      "+------------+-----------+\n",
      "|WICKETKEEPER|     278.99|\n",
      "|      BATTER|     214.56|\n",
      "| ALL-ROUNDER|     170.48|\n",
      "|      BOWLER|     142.91|\n",
      "+------------+-----------+\n",
      "\n"
     ]
    }
   ],
   "source": [
    "spark.sql(\"\"\"SELECT type, round(avg(cost_usd),2) average_pay FROM ipl GROUP BY 1 ORDER BY 2 DESC\"\"\").show()"
   ]
  },
  {
   "cell_type": "markdown",
   "id": "ff65cc06",
   "metadata": {},
   "source": [
    "## List of Retained players with team name and salary"
   ]
  },
  {
   "cell_type": "code",
   "execution_count": 124,
   "id": "b8bc863a",
   "metadata": {},
   "outputs": [
    {
     "name": "stdout",
     "output_type": "stream",
     "text": [
      "+---------------+--------------+--------+\n",
      "|         player|twentyOne_team|cost_usd|\n",
      "+---------------+--------------+--------+\n",
      "|Ravindra Jadeja|           CSK|  2080.0|\n",
      "|   Rishabh Pant|            DC|  2080.0|\n",
      "|   Rohit Sharma|            MI|  2080.0|\n",
      "|    Virat Kohli|           RCB|  1950.0|\n",
      "|   Sanju Samson|            RR|  1820.0|\n",
      "|Kane Williamson|           SRH|  1820.0|\n",
      "|       MS Dhoni|           CSK|  1560.0|\n",
      "|  Andre Russell|           KKR|  1560.0|\n",
      "| Mayank Agarwal|          PBKS|  1560.0|\n",
      "| Jasprit Bumrah|            MI|  1560.0|\n",
      "+---------------+--------------+--------+\n",
      "only showing top 10 rows\n",
      "\n"
     ]
    }
   ],
   "source": [
    "df3.select('player', 'twentyOne_team', 'cost_usd').where(df3.base_price == 'Retained').orderBy('cost_usd',ascending=False).show(10)"
   ]
  },
  {
   "cell_type": "code",
   "execution_count": 125,
   "id": "ba6ced01",
   "metadata": {},
   "outputs": [
    {
     "name": "stdout",
     "output_type": "stream",
     "text": [
      "+---------------+--------------+--------+\n",
      "|         player|twentyOne_team|cost_usd|\n",
      "+---------------+--------------+--------+\n",
      "|Ravindra Jadeja|           CSK|  2080.0|\n",
      "|   Rishabh Pant|            DC|  2080.0|\n",
      "|   Rohit Sharma|            MI|  2080.0|\n",
      "|    Virat Kohli|           RCB|  1950.0|\n",
      "|   Sanju Samson|            RR|  1820.0|\n",
      "|Kane Williamson|           SRH|  1820.0|\n",
      "| Jasprit Bumrah|            MI|  1560.0|\n",
      "|  Andre Russell|           KKR|  1560.0|\n",
      "| Mayank Agarwal|          PBKS|  1560.0|\n",
      "|       MS Dhoni|           CSK|  1560.0|\n",
      "+---------------+--------------+--------+\n",
      "\n"
     ]
    }
   ],
   "source": [
    "spark.sql(\"\"\"SELECT player, twentyOne_team, cost_usd FROM ipl WHERE base_price = 'Retained' ORDER By 3 DESC LIMIT 10\"\"\").show()"
   ]
  },
  {
   "cell_type": "code",
   "execution_count": null,
   "id": "c23a5d60",
   "metadata": {},
   "outputs": [],
   "source": []
  }
 ],
 "metadata": {
  "kernelspec": {
   "display_name": "Python 3 (ipykernel)",
   "language": "python",
   "name": "python3"
  },
  "language_info": {
   "codemirror_mode": {
    "name": "ipython",
    "version": 3
   },
   "file_extension": ".py",
   "mimetype": "text/x-python",
   "name": "python",
   "nbconvert_exporter": "python",
   "pygments_lexer": "ipython3",
   "version": "3.11.4"
  }
 },
 "nbformat": 4,
 "nbformat_minor": 5
}
